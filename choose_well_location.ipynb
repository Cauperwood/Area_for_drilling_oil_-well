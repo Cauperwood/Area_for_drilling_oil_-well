{
 "cells": [
  {
   "cell_type": "markdown",
   "metadata": {},
   "source": [
    "# Выбор локации для скважины"
   ]
  },
  {
   "cell_type": "markdown",
   "metadata": {},
   "source": [
    "Допустим, вы работаете в добывающей компании «ГлавРосГосНефть». Нужно решить, где бурить новую скважину.\n",
    "\n",
    "Вам предоставлены пробы нефти в трёх регионах: в каждом 10 000 месторождений, где измерили качество нефти и объём её запасов. Постройте модель машинного обучения, которая поможет определить регион, где добыча принесёт наибольшую прибыль. Проанализируйте возможную прибыль и риски техникой *Bootstrap.*\n",
    "\n",
    "Шаги для выбора локации:\n",
    "\n",
    "- В избранном регионе ищут месторождения, для каждого определяют значения признаков;\n",
    "- Строят модель и оценивают объём запасов;\n",
    "- Выбирают месторождения с самым высокими оценками значений. Количество месторождений зависит от бюджета компании и стоимости разработки одной скважины;\n",
    "- Прибыль равна суммарной прибыли отобранных месторождений."
   ]
  },
  {
   "cell_type": "markdown",
   "metadata": {},
   "source": [
    "<b>Условия задачи: </b>\n",
    "- Для обучения модели подходит только линейная регрессия (остальные — недостаточно предсказуемые).\n",
    "- При разведке региона исследуют 500 точек, из которых с помощью машинного обучения выбирают 200 лучших для разработки.\n",
    "- Бюджет на разработку скважин в регионе — 10 млрд рублей.\n",
    "- При нынешних ценах один баррель сырья приносит 450 рублей дохода. Доход с каждой единицы продукта составляет 450 тыс. рублей, поскольку объём указан в тысячах баррелей.\n",
    "- После оценки рисков нужно оставить лишь те регионы, в которых вероятность убытков меньше 2.5%. Среди них выбирают регион с наибольшей средней прибылью."
   ]
  },
  {
   "cell_type": "markdown",
   "metadata": {},
   "source": [
    "<b>Инструкция по выполнению проекта</b><br>\n",
    "\n",
    "<b>Загрузите и подготовьте данные. Поясните порядок действий.</b>\n",
    "-  Обучите и проверьте модель для каждого региона:\n",
    "-  Разбейте данные на обучающую и валидационную выборки в соотношении 75:25.\n",
    "-  Обучите модель и сделайте предсказания на валидационной выборке.\n",
    "-  Сохраните предсказания и правильные ответы на валидационной выборке.\n",
    "-  Напечатайте на экране средний запас предсказанного сырья и RMSE модели.\n",
    "-  Проанализируйте результаты.<br><br>\n",
    "<b>Подготовьтесь к расчёту прибыли:</b>\n",
    "-  Все ключевые значения для расчётов сохраните в отдельных переменных.\n",
    "-  Рассчитайте достаточный объём сырья для безубыточной разработки новой скважины. Сравните полученный объём сырья со средним запасом в каждом регионе.\n",
    "-  Напишите выводы по этапу подготовки расчёта прибыли.<br><br>\n",
    "<b>Напишите функцию для расчёта прибыли по выбранным скважинам и предсказаниям модели:</b>\n",
    "-  Выберите скважины с максимальными значениями предсказаний.\n",
    "-  Просуммируйте целевое значение объёма сырья, соответствующее этим предсказаниям.\n",
    "-  Рассчитайте прибыль для полученного объёма сырья.<br><br>\n",
    "<b>Посчитайте риски и прибыль для каждого региона:</b>\n",
    "-  Примените технику Bootstrap с 1000 выборок, чтобы найти распределение прибыли.\n",
    "-  Найдите среднюю прибыль, 95%-й доверительный интервал и риск убытков. Убыток — это отрицательная прибыль.\n",
    "-  Напишите выводы: предложите регион для разработки скважин и обоснуйте выбор."
   ]
  },
  {
   "cell_type": "code",
   "execution_count": 1,
   "metadata": {},
   "outputs": [],
   "source": [
    "import pandas as pd\n",
    "import numpy as np\n",
    "from sklearn.linear_model import LinearRegression\n",
    "from sklearn.metrics import mean_squared_error\n",
    "from sklearn.model_selection import train_test_split"
   ]
  },
  {
   "cell_type": "markdown",
   "metadata": {},
   "source": [
    "## Загрузка и подготовка данных"
   ]
  },
  {
   "cell_type": "code",
   "execution_count": 2,
   "metadata": {},
   "outputs": [],
   "source": [
    "try:\n",
    "    df_1 = pd.read_csv('/datasets/geo_data_0.csv')\n",
    "    df_2 = pd.read_csv('/datasets/geo_data_1.csv')\n",
    "    df_3 = pd.read_csv('/datasets/geo_data_2.csv')\n",
    "except:\n",
    "    df_1 = pd.read_csv('geo_data_0.csv')\n",
    "    df_2 = pd.read_csv('geo_data_1.csv')\n",
    "    df_3 = pd.read_csv('geo_data_2.csv')"
   ]
  },
  {
   "cell_type": "code",
   "execution_count": 3,
   "metadata": {},
   "outputs": [],
   "source": [
    "dfs = [df_1, df_2, df_3]"
   ]
  },
  {
   "cell_type": "code",
   "execution_count": 4,
   "metadata": {},
   "outputs": [
    {
     "name": "stdout",
     "output_type": "stream",
     "text": [
      "<class 'pandas.core.frame.DataFrame'>\n",
      "RangeIndex: 100000 entries, 0 to 99999\n",
      "Data columns (total 5 columns):\n",
      " #   Column   Non-Null Count   Dtype  \n",
      "---  ------   --------------   -----  \n",
      " 0   id       100000 non-null  object \n",
      " 1   f0       100000 non-null  float64\n",
      " 2   f1       100000 non-null  float64\n",
      " 3   f2       100000 non-null  float64\n",
      " 4   product  100000 non-null  float64\n",
      "dtypes: float64(4), object(1)\n",
      "memory usage: 3.8+ MB\n",
      "None\n",
      "<class 'pandas.core.frame.DataFrame'>\n",
      "RangeIndex: 100000 entries, 0 to 99999\n",
      "Data columns (total 5 columns):\n",
      " #   Column   Non-Null Count   Dtype  \n",
      "---  ------   --------------   -----  \n",
      " 0   id       100000 non-null  object \n",
      " 1   f0       100000 non-null  float64\n",
      " 2   f1       100000 non-null  float64\n",
      " 3   f2       100000 non-null  float64\n",
      " 4   product  100000 non-null  float64\n",
      "dtypes: float64(4), object(1)\n",
      "memory usage: 3.8+ MB\n",
      "None\n",
      "<class 'pandas.core.frame.DataFrame'>\n",
      "RangeIndex: 100000 entries, 0 to 99999\n",
      "Data columns (total 5 columns):\n",
      " #   Column   Non-Null Count   Dtype  \n",
      "---  ------   --------------   -----  \n",
      " 0   id       100000 non-null  object \n",
      " 1   f0       100000 non-null  float64\n",
      " 2   f1       100000 non-null  float64\n",
      " 3   f2       100000 non-null  float64\n",
      " 4   product  100000 non-null  float64\n",
      "dtypes: float64(4), object(1)\n",
      "memory usage: 3.8+ MB\n",
      "None\n"
     ]
    }
   ],
   "source": [
    "for i in dfs:\n",
    "    print(i.info())"
   ]
  },
  {
   "cell_type": "code",
   "execution_count": 5,
   "metadata": {},
   "outputs": [
    {
     "name": "stdout",
     "output_type": "stream",
     "text": [
      "      id        f0        f1        f2     product\n",
      "0  txEyH  0.705745 -0.497823  1.221170  105.280062\n",
      "1  2acmU  1.334711 -0.340164  4.365080   73.037750\n",
      "2  409Wp  1.022732  0.151990  1.419926   85.265647\n",
      "3  iJLyR -0.032172  0.139033  2.978566  168.620776\n",
      "4  Xdl7t  1.988431  0.155413  4.751769  154.036647\n",
      "      id         f0         f1        f2     product\n",
      "0  kBEdx -15.001348  -8.276000 -0.005876    3.179103\n",
      "1  62mP7  14.272088  -3.475083  0.999183   26.953261\n",
      "2  vyE1P   6.263187  -5.948386  5.001160  134.766305\n",
      "3  KcrkZ -13.081196 -11.506057  4.999415  137.945408\n",
      "4  AHL4O  12.702195  -8.147433  5.004363  134.766305\n",
      "      id        f0        f1        f2     product\n",
      "0  fwXo0 -1.146987  0.963328 -0.828965   27.758673\n",
      "1  WJtFt  0.262778  0.269839 -2.530187   56.069697\n",
      "2  ovLUW  0.194587  0.289035 -5.586433   62.871910\n",
      "3  q6cA6  2.236060 -0.553760  0.930038  114.572842\n",
      "4  WPMUX -0.515993  1.716266  5.899011  149.600746\n"
     ]
    }
   ],
   "source": [
    "for i in dfs:\n",
    "    print(i.head())"
   ]
  },
  {
   "cell_type": "code",
   "execution_count": 6,
   "metadata": {},
   "outputs": [
    {
     "name": "stdout",
     "output_type": "stream",
     "text": [
      "                  f0             f1             f2        product\n",
      "count  100000.000000  100000.000000  100000.000000  100000.000000\n",
      "mean        0.500419       0.250143       2.502647      92.500000\n",
      "std         0.871832       0.504433       3.248248      44.288691\n",
      "min        -1.408605      -0.848218     -12.088328       0.000000\n",
      "25%        -0.072580      -0.200881       0.287748      56.497507\n",
      "50%         0.502360       0.250252       2.515969      91.849972\n",
      "75%         1.073581       0.700646       4.715088     128.564089\n",
      "max         2.362331       1.343769      16.003790     185.364347\n",
      "                  f0             f1             f2        product\n",
      "count  100000.000000  100000.000000  100000.000000  100000.000000\n",
      "mean        1.141296      -4.796579       2.494541      68.825000\n",
      "std         8.965932       5.119872       1.703572      45.944423\n",
      "min       -31.609576     -26.358598      -0.018144       0.000000\n",
      "25%        -6.298551      -8.267985       1.000021      26.953261\n",
      "50%         1.153055      -4.813172       2.011479      57.085625\n",
      "75%         8.621015      -1.332816       3.999904     107.813044\n",
      "max        29.421755      18.734063       5.019721     137.945408\n",
      "                  f0             f1             f2        product\n",
      "count  100000.000000  100000.000000  100000.000000  100000.000000\n",
      "mean        0.002023      -0.002081       2.495128      95.000000\n",
      "std         1.732045       1.730417       3.473445      44.749921\n",
      "min        -8.760004      -7.084020     -11.970335       0.000000\n",
      "25%        -1.162288      -1.174820       0.130359      59.450441\n",
      "50%         0.009424      -0.009482       2.484236      94.925613\n",
      "75%         1.158535       1.163678       4.858794     130.595027\n",
      "max         7.238262       7.844801      16.739402     190.029838\n"
     ]
    }
   ],
   "source": [
    "for i in dfs:\n",
    "    print(i.describe())"
   ]
  },
  {
   "cell_type": "markdown",
   "metadata": {},
   "source": [
    "Данные загружены корректно. Далее имеет смысл колонку id сделать индексом."
   ]
  },
  {
   "cell_type": "code",
   "execution_count": 7,
   "metadata": {},
   "outputs": [],
   "source": [
    "def prepare_df(data):\n",
    "    \"\"\" присваивает значения колонки id индексу \"\"\"\n",
    "    data.index = data['id']\n",
    "    data = data.drop('id', axis = 1)\n",
    "    return data\n",
    " \n",
    "regions_data = []\n",
    "for i in dfs:\n",
    "    regions_data.append(prepare_df(i)) "
   ]
  },
  {
   "cell_type": "code",
   "execution_count": 8,
   "metadata": {},
   "outputs": [],
   "source": [
    "def feature_target(data):\n",
    "    \"\"\"разбивает данные в датафрэйме на признаки и цель\"\"\"\n",
    "    feature = data.drop('product', axis = 1)\n",
    "    target = data['product']\n",
    "    return feature, target"
   ]
  },
  {
   "cell_type": "markdown",
   "metadata": {},
   "source": [
    "<b> Вывод </b> <br>\n",
    "Данные загружены корректно.  Колонка id преобразована в значения индекса."
   ]
  },
  {
   "cell_type": "markdown",
   "metadata": {},
   "source": [
    "## Обучение и проверка модели"
   ]
  },
  {
   "cell_type": "code",
   "execution_count": 9,
   "metadata": {},
   "outputs": [],
   "source": [
    "model = LinearRegression()\n",
    "oil_reserves = {}\n",
    "RMSE = {}\n",
    "target_valid_regions = {}\n",
    "num_region = 1\n",
    "for i in regions_data:\n",
    "    feature, target = feature_target(i)\n",
    "    feature_train, feature_valid, target_train, target_valid = train_test_split(\n",
    "    feature, target, test_size = 0.25, random_state = 12345)\n",
    "    reg = model.fit(feature_train, target_train)\n",
    "    predictions_valid = reg.predict(feature_valid)\n",
    "    rms = (mean_squared_error(target_valid, predictions_valid))**0.5\n",
    "    oil_reserves.setdefault(str(num_region),predictions_valid)\n",
    "    RMSE.setdefault(str(num_region), rms)\n",
    "    target_valid_regions.setdefault(str(num_region), target_valid)\n",
    "    num_region += 1"
   ]
  },
  {
   "cell_type": "code",
   "execution_count": 10,
   "metadata": {},
   "outputs": [
    {
     "name": "stdout",
     "output_type": "stream",
     "text": [
      "среднее количество запасов нефти в скважине в регионе 1 равно: 92.59 тыс. баррелей    \n",
      "RMSE модели для региона 1 равно: 37.5794217150813\n",
      "среднее количество запасов нефти в скважине в регионе 2 равно: 68.73 тыс. баррелей    \n",
      "RMSE модели для региона 2 равно: 0.8930992867756168\n",
      "среднее количество запасов нефти в скважине в регионе 3 равно: 94.97 тыс. баррелей    \n",
      "RMSE модели для региона 3 равно: 40.02970873393434\n"
     ]
    }
   ],
   "source": [
    "for i in oil_reserves.keys():\n",
    "    print(f'среднее количество запасов нефти в скважине в регионе {i} равно: {oil_reserves[i].mean():.2f} тыс. баррелей\\\n",
    "    \\nRMSE модели для региона {i} равно: {RMSE[i]}')"
   ]
  },
  {
   "cell_type": "markdown",
   "metadata": {},
   "source": [
    "<b>Вывод:</b> <br> регионы 1 и 3, согласно предсказанию модели, имеют большие запасы чем регион 2, однако точность предсказания у модели для региона 2 значительно выше.  "
   ]
  },
  {
   "cell_type": "markdown",
   "metadata": {},
   "source": [
    "## Подготовка к расчёту прибыли"
   ]
  },
  {
   "cell_type": "code",
   "execution_count": 11,
   "metadata": {},
   "outputs": [],
   "source": [
    "EXPLORATION_COSTS = 10**10\n",
    "EXPLORATION_WELLS_NUMBER = 500\n",
    "WORKING_WELLS_NUMBER = 200\n",
    "BARREL_COST = 450"
   ]
  },
  {
   "cell_type": "code",
   "execution_count": 12,
   "metadata": {},
   "outputs": [
    {
     "data": {
      "text/plain": [
       "20000000.0"
      ]
     },
     "execution_count": 12,
     "metadata": {},
     "output_type": "execute_result"
    }
   ],
   "source": [
    "EXPLORATION_COSTS_ONE_WELLS = EXPLORATION_COSTS/EXPLORATION_WELLS_NUMBER\n",
    "EXPLORATION_COSTS_ONE_WELLS"
   ]
  },
  {
   "cell_type": "code",
   "execution_count": 13,
   "metadata": {},
   "outputs": [
    {
     "data": {
      "text/plain": [
       "50000000.0"
      ]
     },
     "execution_count": 13,
     "metadata": {},
     "output_type": "execute_result"
    }
   ],
   "source": [
    "PAYBACK_TRESHHOLD_ONE_WORKING_WELL = EXPLORATION_COSTS/WORKING_WELLS_NUMBER\n",
    "PAYBACK_TRESHHOLD_ONE_WORKING_WELL"
   ]
  },
  {
   "cell_type": "code",
   "execution_count": 14,
   "metadata": {},
   "outputs": [
    {
     "name": "stdout",
     "output_type": "stream",
     "text": [
      "необходимый запас нефти в скважине для выхода на прибыль должен быть больше: 111.11 тыс. баррелей\n"
     ]
    }
   ],
   "source": [
    "ENOUGHT_VOLUME = PAYBACK_TRESHHOLD_ONE_WORKING_WELL/(BARREL_COST*1000)\n",
    "print(f'необходимый запас нефти в скважине для выхода на прибыль должен быть больше: {ENOUGHT_VOLUME:.2f} тыс. баррелей')"
   ]
  },
  {
   "cell_type": "code",
   "execution_count": 15,
   "metadata": {},
   "outputs": [],
   "source": [
    "def revenue(predictions, target, WORKING_WELLS_NUMBER):\n",
    "    \"\"\"функция определяет прибыль из разработанных скважин. \n",
    "    Функция  на вход получает предсказанные значения, целевые показатели  сырья в скважинах \n",
    "    и количество скважин для бурения.\n",
    "    Далее предсказанные значения сортирует по убыванию, берет 200 первых скважин, \n",
    "    и согласно их индексам отбирает значения целевого признака, далее суммируется количество сырья \n",
    "    в 'целевых' скважинах, умножается на 1000 и из полученного значения вычитается стоимость исследований и разработки\"\"\"\n",
    "    probs_sorted = predictions.sort_values(by = 0 , ascending=False)\n",
    "    target = target[probs_sorted[:WORKING_WELLS_NUMBER].index]\n",
    "    selected = BARREL_COST * target.sum()\n",
    "    return 1000 * selected - EXPLORATION_COSTS\n",
    "    "
   ]
  },
  {
   "cell_type": "markdown",
   "metadata": {},
   "source": [
    "<b>Вывод:</b>\n",
    "    \n",
    "Средние значения запасов нефти в скажинах по регионам значительно меньше чем требуется для получения прибыли, поэтому крайне важно максимально точно определить локацию для бурения новой скважины."
   ]
  },
  {
   "cell_type": "markdown",
   "metadata": {},
   "source": [
    "## Расчёт прибыли и рисков "
   ]
  },
  {
   "cell_type": "code",
   "execution_count": 16,
   "metadata": {},
   "outputs": [],
   "source": [
    "def risk_value(data, number_samples):\n",
    "    \"\"\"определяет долю риска получения убытков.\n",
    "    функция получает на вход значения прибыли по бутстреп выборкам находит отрицательные значения,\n",
    "    суммирует их и делит на количество выборок\"\"\"\n",
    "    n = 0\n",
    "    for i in data:\n",
    "        if i < 0:\n",
    "            n += 1        \n",
    "    return n/number_samples\n",
    "    "
   ]
  },
  {
   "cell_type": "code",
   "execution_count": 17,
   "metadata": {},
   "outputs": [],
   "source": [
    "def prediction_income_loss(predictions, target, region_name):\n",
    "    \"\"\"функция определяет значения прибыли и риска убытков по регионам\"\"\" \n",
    "    alpha = 0.05\n",
    "    incomes = []\n",
    "    losses = []\n",
    "    state = np.random.RandomState(12345)\n",
    "    number_samples = 1000\n",
    "    for _ in range(number_samples):\n",
    "        data = pd.DataFrame(predictions[region_name])\n",
    "        target_subsample = data.sample(n=EXPLORATION_WELLS_NUMBER, replace=True, random_state=state)\n",
    "        incomes.append(revenue(target_subsample, target[region_name], WORKING_WELLS_NUMBER))\n",
    "    conf_int_left = pd.Series(incomes).quantile(alpha/2)\n",
    "    conf_int_right = pd.Series(incomes).quantile(1 - alpha/2)\n",
    "    loss = (pd.Series(incomes) < 0).mean()\n",
    "    #loss = risk_value(incomes, number_samples)\n",
    "    income = np.mean(incomes)\n",
    "    return region_name, income, loss, conf_int_left, conf_int_right\n",
    "    \n",
    "        "
   ]
  },
  {
   "cell_type": "code",
   "execution_count": 18,
   "metadata": {},
   "outputs": [
    {
     "name": "stdout",
     "output_type": "stream",
     "text": [
      "Средняя прибыль в регионе 1 составляет 396.16 (млн. Р)\n",
      "Вероятность убытка в регионе 1 составляет 6.900000%\n",
      "95% доверительный интервал: -111.22 : 909.77 (млн. Р)\n",
      "Средняя прибыль в регионе 2 составляет 456.05 (млн. Р)\n",
      "Вероятность убытка в регионе 2 составляет 1.500000%\n",
      "95% доверительный интервал: 33.82 : 852.29 (млн. Р)\n",
      "Средняя прибыль в регионе 3 составляет 404.40 (млн. Р)\n",
      "Вероятность убытка в регионе 3 составляет 7.600000%\n",
      "95% доверительный интервал: -163.35 : 950.36 (млн. Р)\n",
      "Скважину следует бурить в регионе 2, т.к. именно этот регион дает наибольшую среднюю прибыль равную 456.05 млн. руб., при риске получения убытка равном 1.50%\n"
     ]
    }
   ],
   "source": [
    "regions_number = 0\n",
    "max_revenue = 0\n",
    "loss_rate = 0\n",
    "for i in oil_reserves.keys():\n",
    "    region_name, income, loss, conf_int_left, conf_int_right =  prediction_income_loss(oil_reserves, target_valid_regions, i)\n",
    "    print(f'Средняя прибыль в регионе {region_name} составляет {(income/10**6):.2f} (млн. Р)')\n",
    "    print(f'Вероятность убытка в регионе {region_name} составляет {loss:%}')\n",
    "    print(f'95% доверительный интервал: {(conf_int_left/10**6):.2f} : {(conf_int_right/10**6):.2f} (млн. Р)')\n",
    "    #print(f'доверительный интервал для региона {region_name} - {conf_int_left} : {conf_int_right} ')\n",
    "    if income > max_revenue:\n",
    "        max_revenue = income\n",
    "        regions_number = i\n",
    "        loss_rate = loss\n",
    "    \n",
    "print(f'Скважину следует бурить в регионе {regions_number}, т.к. именно этот регион дает наибольшую среднюю прибыль равную {max_revenue/10**6:.2f} млн. руб., при риске получения убытка равном {loss_rate:.2%}')\n",
    "    "
   ]
  },
  {
   "cell_type": "markdown",
   "metadata": {},
   "source": [
    "<b>Вывод:</b> <br>\n",
    "Согласно полученным расчетам, скважину следует бурить в регионе 2, т.к., именно здесь, достигается наибольшая прибыль при наименьшем риске получения убытка. \n"
   ]
  },
  {
   "cell_type": "markdown",
   "metadata": {},
   "source": [
    "## Чек-лист готовности проекта"
   ]
  },
  {
   "cell_type": "markdown",
   "metadata": {},
   "source": [
    "Поставьте 'x' в выполненных пунктах. Далее нажмите Shift+Enter."
   ]
  },
  {
   "cell_type": "markdown",
   "metadata": {},
   "source": [
    "- [x]  Jupyter Notebook открыт\n",
    "- [x]  Весь код выполняется без ошибок\n",
    "- [x]  Ячейки с кодом расположены в порядке исполнения\n",
    "- [x]  Выполнен шаг 1: данные подготовлены\n",
    "- [x]  Выполнен шаг 2: модели обучены и проверены\n",
    "    - [x]  Данные корректно разбиты на обучающую и валидационную выборки\n",
    "    - [x]  Модели обучены, предсказания сделаны\n",
    "    - [x]  Предсказания и правильные ответы на валидационной выборке сохранены\n",
    "    - [x]  На экране напечатаны результаты\n",
    "    - [x]  Сделаны выводы\n",
    "- [x]  Выполнен шаг 3: проведена подготовка к расчёту прибыли\n",
    "    - [x]  Для всех ключевых значений созданы константы Python\n",
    "    - [x]  Посчитано минимальное среднее количество продукта в месторождениях региона, достаточное для разработки\n",
    "    - [x]  По предыдущему пункту сделаны выводы\n",
    "    - [x]  Написана функция расчёта прибыли\n",
    "- [x]  Выполнен шаг 4: посчитаны риски и прибыль\n",
    "    - [x]  Проведена процедура *Bootstrap*\n",
    "    - [x]  Все параметры бутстрепа соответствуют условию\n",
    "    - [x]  Найдены все нужные величины\n",
    "    - [x]  Предложен регион для разработки месторождения\n",
    "    - [x]  Выбор региона обоснован"
   ]
  },
  {
   "cell_type": "code",
   "execution_count": null,
   "metadata": {},
   "outputs": [],
   "source": []
  }
 ],
 "metadata": {
  "kernelspec": {
   "display_name": "Python 3",
   "language": "python",
   "name": "python3"
  },
  "language_info": {
   "codemirror_mode": {
    "name": "ipython",
    "version": 3
   },
   "file_extension": ".py",
   "mimetype": "text/x-python",
   "name": "python",
   "nbconvert_exporter": "python",
   "pygments_lexer": "ipython3",
   "version": "3.7.6"
  },
  "toc": {
   "base_numbering": 1,
   "nav_menu": {},
   "number_sections": true,
   "sideBar": true,
   "skip_h1_title": true,
   "title_cell": "Table of Contents",
   "title_sidebar": "Contents",
   "toc_cell": false,
   "toc_position": {},
   "toc_section_display": true,
   "toc_window_display": false
  }
 },
 "nbformat": 4,
 "nbformat_minor": 2
}
